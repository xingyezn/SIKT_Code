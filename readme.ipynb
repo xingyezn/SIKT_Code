{
 "cells": [
  {
   "cell_type": "markdown",
   "id": "a3985af9",
   "metadata": {},
   "source": [
    "# The Code of SIKT Model\n",
    "This file is a tutorial for running SIKT model code.\n",
    "## introduction\n",
    "- model/\n",
    "    - checkpoints/ :*Folder of model checkpoint*\n",
    "    - log/  : *Folder of training log. There are log files of our paper.*\n",
    "    - SIKT Model.ipynb : *SIKT model of Continual learning sequence train and joint train. *\n",
    "- DataProcess/\n",
    "    - raw_data/   : *Raw data of three dataset, ASSIST2009NSB=A09, ASSIST2012=A12, EdNet=EN*\n",
    "    - test_data/  : *Test data of three dataset*\n",
    "    - train_data/  :  *Train data of three dataset*\n",
    "    - Data Process.ipynb : *Code of data process,if want to get the result in our paper, you need to run it.*\n",
    "    - t-SNE.ipynb : *Code of t-SNE analysis*\n",
    "- requirements.txt : *This file may be used to create an environment using:$ conda create --name <env> --file <this file>*\n",
    " \n",
    "\n",
    "## setup\n",
    "platform: linux-64\n",
    "\n",
    "RAM: 120G\n",
    "\n",
    "Please ensure that the version of Python is 3.8 and install all library files of requirements.txt.\n",
    "\n",
    "You can use jupyter to run this code, or you can save it as a py file to run it.\n",
    "\n",
    "## Run SIKT model\n",
    "If you only want to run the model, you can directly enter *model/SIKT Model.ipynb*, run all the code to see that the model is training. Because the raw dataset is too large, only the first 50000 pieces of data are taken from each data set for demonstration.\n",
    "\n",
    "## Run Data process\n",
    "To restore the results of the article, enter *DataProcess/Data Process.ipynb* and run all the codes to generate all the data. It takes a long time to run this code and ensure that the computer has a large memory. Run *model/SIKT Model.ipynb* again, and you can reproduce the results in the article.\n",
    "\n",
    "### t-SNE\n",
    "If you have run Data Process.ipynb, you can run the t-SNE.ipynb, and see the data distribution of the three datasets.\n",
    "    \n"
   ]
  }
 ],
 "metadata": {
  "kernelspec": {
   "display_name": "Python 3",
   "language": "python",
   "name": "python3"
  },
  "language_info": {
   "codemirror_mode": {
    "name": "ipython",
    "version": 3
   },
   "file_extension": ".py",
   "mimetype": "text/x-python",
   "name": "python",
   "nbconvert_exporter": "python",
   "pygments_lexer": "ipython3",
   "version": "3.8.8"
  },
  "toc": {
   "base_numbering": 1,
   "nav_menu": {},
   "number_sections": true,
   "sideBar": true,
   "skip_h1_title": false,
   "title_cell": "Table of Contents",
   "title_sidebar": "Contents",
   "toc_cell": false,
   "toc_position": {},
   "toc_section_display": true,
   "toc_window_display": false
  },
  "varInspector": {
   "cols": {
    "lenName": 16,
    "lenType": 16,
    "lenVar": 40
   },
   "kernels_config": {
    "python": {
     "delete_cmd_postfix": "",
     "delete_cmd_prefix": "del ",
     "library": "var_list.py",
     "varRefreshCmd": "print(var_dic_list())"
    },
    "r": {
     "delete_cmd_postfix": ") ",
     "delete_cmd_prefix": "rm(",
     "library": "var_list.r",
     "varRefreshCmd": "cat(var_dic_list()) "
    }
   },
   "types_to_exclude": [
    "module",
    "function",
    "builtin_function_or_method",
    "instance",
    "_Feature"
   ],
   "window_display": false
  }
 },
 "nbformat": 4,
 "nbformat_minor": 5
}
